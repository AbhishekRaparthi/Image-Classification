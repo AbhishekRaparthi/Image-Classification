{
 "cells": [
  {
   "cell_type": "code",
   "execution_count": 1,
   "id": "5118f0d9",
   "metadata": {},
   "outputs": [
    {
     "name": "stdout",
     "output_type": "stream",
     "text": [
      "Epoch 1/100\n"
     ]
    },
    {
     "name": "stderr",
     "output_type": "stream",
     "text": [
      "2023-08-02 20:14:52.444992: W tensorflow/tsl/platform/profile_utils/cpu_utils.cc:128] Failed to get CPU frequency: 0 Hz\n"
     ]
    },
    {
     "name": "stdout",
     "output_type": "stream",
     "text": [
      "844/844 [==============================] - 61s 73ms/step - loss: 0.5211 - accuracy: 0.8054 - val_loss: 0.3473 - val_accuracy: 0.8793\n",
      "Epoch 2/100\n",
      "844/844 [==============================] - 62s 73ms/step - loss: 0.3144 - accuracy: 0.8848 - val_loss: 0.2869 - val_accuracy: 0.8965\n",
      "Epoch 3/100\n",
      "844/844 [==============================] - 65s 77ms/step - loss: 0.2600 - accuracy: 0.9049 - val_loss: 0.2716 - val_accuracy: 0.9010\n",
      "Epoch 4/100\n",
      "844/844 [==============================] - 66s 78ms/step - loss: 0.2264 - accuracy: 0.9172 - val_loss: 0.2626 - val_accuracy: 0.9053\n",
      "Epoch 5/100\n",
      "844/844 [==============================] - 65s 77ms/step - loss: 0.1936 - accuracy: 0.9295 - val_loss: 0.2463 - val_accuracy: 0.9113\n",
      "Epoch 6/100\n",
      "844/844 [==============================] - 64s 75ms/step - loss: 0.1627 - accuracy: 0.9395 - val_loss: 0.2381 - val_accuracy: 0.9173\n",
      "Epoch 7/100\n",
      "844/844 [==============================] - 66s 78ms/step - loss: 0.1436 - accuracy: 0.9465 - val_loss: 0.2667 - val_accuracy: 0.9095\n",
      "Epoch 8/100\n",
      "844/844 [==============================] - 63s 75ms/step - loss: 0.1176 - accuracy: 0.9564 - val_loss: 0.2964 - val_accuracy: 0.9120\n",
      "Epoch 9/100\n",
      "844/844 [==============================] - 62s 73ms/step - loss: 0.1017 - accuracy: 0.9626 - val_loss: 0.3080 - val_accuracy: 0.9112\n",
      "Epoch 10/100\n",
      "844/844 [==============================] - 63s 75ms/step - loss: 0.0856 - accuracy: 0.9691 - val_loss: 0.3165 - val_accuracy: 0.9152\n",
      "Epoch 11/100\n",
      "844/844 [==============================] - 64s 76ms/step - loss: 0.0723 - accuracy: 0.9741 - val_loss: 0.3468 - val_accuracy: 0.9082\n",
      "313/313 [==============================] - 3s 10ms/step - loss: 0.2219 - accuracy: 0.9191\n"
     ]
    },
    {
     "data": {
      "text/plain": [
       "[0.22187621891498566, 0.9190999865531921]"
      ]
     },
     "execution_count": 1,
     "metadata": {},
     "output_type": "execute_result"
    }
   ],
   "source": [
    "import pandas as pd \n",
    "import numpy as np\n",
    "from tensorflow.keras.callbacks import EarlyStopping\n",
    "from sklearn.model_selection import train_test_split\n",
    "import tensorflow as tf\n",
    "\n",
    "\n",
    "trainData=pd.read_csv('/Users/tarunvarma/Downloads/Data/train.csv')\n",
    "x_train = np.array(trainData.iloc[:, 1:])\n",
    "y_train= trainData.iloc[:, 0]\n",
    "x_train = x_train.reshape(-1, 28, 28, 1)\n",
    "\n",
    "x_train=x_train/255\n",
    "\n",
    "\n",
    "\n",
    "model = tf.keras.Sequential([\n",
    "    tf.keras.layers.Conv2D(32, (5, 5), activation='relu', input_shape=(28, 28, 1)),\n",
    "    tf.keras.layers.Conv2D(64,(5,5),activation='relu',input_shape=(24,24,32)),\n",
    "    tf.keras.layers.Conv2D(128,(5,5),activation='relu'), \n",
    "    tf.keras.layers.MaxPooling2D(pool_size=(2, 2), strides=(2, 2)),\n",
    "    tf.keras.layers.Conv2D(264,(5,5),activation='relu'), \n",
    "\n",
    "    tf.keras.layers.Flatten(),\n",
    "    tf.keras.layers.Dense(64, activation='relu'),\n",
    "    tf.keras.layers.Dense(10, activation='softmax')\n",
    "])\n",
    "\n",
    "model.compile(optimizer='adam',\n",
    "              loss='sparse_categorical_crossentropy',\n",
    "              metrics=['accuracy']\n",
    "              )\n",
    "\n",
    "x_train, x_val, y_train, y_val = train_test_split(x_train, y_train, test_size=0.1, random_state=42)\n",
    "early_stopping = EarlyStopping(monitor='val_loss', patience=5, restore_best_weights=True)\n",
    "model.fit(x_train, y_train, epochs=100, batch_size=128, validation_data=(x_val, y_val), callbacks = [early_stopping])\n",
    "\n",
    "\n",
    "\n",
    "testData=pd.read_csv('/Users/tarunvarma/Downloads/Data/test.csv')\n",
    "x_test = np.array(testData.iloc[:, 1:])\n",
    "y_test= testData.iloc[:, 0]\n",
    "x_test = x_test.reshape(-1, 28, 28, 1)\n",
    "x_test=x_test/255\n",
    "model.evaluate(x_test, y_test)\n",
    "\n"
   ]
  },
  {
   "cell_type": "code",
   "execution_count": 2,
   "id": "775c1c9c",
   "metadata": {},
   "outputs": [
    {
     "name": "stdout",
     "output_type": "stream",
     "text": [
      "313/313 [==============================] - 3s 11ms/step - loss: 0.2219 - accuracy: 0.9191\n"
     ]
    },
    {
     "data": {
      "text/plain": [
       "[0.22187621891498566, 0.9190999865531921]"
      ]
     },
     "execution_count": 2,
     "metadata": {},
     "output_type": "execute_result"
    }
   ],
   "source": [
    "model.evaluate(x_test,y_test)"
   ]
  },
  {
   "cell_type": "code",
   "execution_count": 13,
   "id": "92a33625",
   "metadata": {},
   "outputs": [
    {
     "name": "stdout",
     "output_type": "stream",
     "text": [
      "313/313 [==============================] - 3s 9ms/step\n"
     ]
    },
    {
     "data": {
      "text/plain": [
       "Text(69.0, 0.5, 'Truth')"
      ]
     },
     "execution_count": 13,
     "metadata": {},
     "output_type": "execute_result"
    },
    {
     "data": {
      "image/png": "[encoded data removed]",
      "text/plain": [
       "<Figure size 720x504 with 2 Axes>"
      ]
     },
     "metadata": {
      "needs_background": "light"
     },
     "output_type": "display_data"
    }
   ],
   "source": [
    "import matplotlib.pyplot as plt\n",
    "\n",
    "y_predicted = model.predict(x_test)\n",
    "y_predicted_labels = [np.argmax(i) for i in y_predicted]\n",
    "\n",
    "cm = tf.math.confusion_matrix(labels=y_test,predictions=y_predicted_labels)\n",
    "cm\n",
    "\n",
    "import seaborn as sn\n",
    "plt.figure(figsize = (10,7))\n",
    "sn.heatmap(cm, annot=True, fmt='d')\n",
    "plt.xlabel('Predicted')\n",
    "plt.ylabel('Truth')"
   ]
  },
  {
   "cell_type": "code",
   "execution_count": null,
   "id": "52ed124a",
   "metadata": {},
   "outputs": [],
   "source": []
  },
  {
   "cell_type": "code",
   "execution_count": null,
   "id": "cf20d9ee",
   "metadata": {},
   "outputs": [],
   "source": []
  }
 ],
 "metadata": {
  "kernelspec": {
   "display_name": "testenv",
   "language": "python",
   "name": "testenv"
  },
  "language_info": {
   "codemirror_mode": {
    "name": "ipython",
    "version": 3
   },
   "file_extension": ".py",
   "mimetype": "text/x-python",
   "name": "python",
   "nbconvert_exporter": "python",
   "pygments_lexer": "ipython3",
   "version": "3.11.4"
  }
 },
 "nbformat": 4,
 "nbformat_minor": 5
}
